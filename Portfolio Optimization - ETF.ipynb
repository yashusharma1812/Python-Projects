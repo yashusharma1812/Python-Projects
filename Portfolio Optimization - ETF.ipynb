{
 "cells": [
  {
   "cell_type": "code",
   "execution_count": 1,
   "metadata": {},
   "outputs": [],
   "source": [
    "import numpy as np\n",
    "import pandas as pd\n",
    "import pandas_datareader.data as web\n",
    "import matplotlib.pyplot as plt"
   ]
  },
  {
   "cell_type": "code",
   "execution_count": 2,
   "metadata": {},
   "outputs": [],
   "source": [
    "# select assets for the portfolio\n",
    "stocks = ['BND','FXE','VOX','VNQ','VWO']"
   ]
  },
  {
   "cell_type": "code",
   "execution_count": 3,
   "metadata": {},
   "outputs": [
    {
     "data": {
      "text/html": [
       "<div>\n",
       "<style scoped>\n",
       "    .dataframe tbody tr th:only-of-type {\n",
       "        vertical-align: middle;\n",
       "    }\n",
       "\n",
       "    .dataframe tbody tr th {\n",
       "        vertical-align: top;\n",
       "    }\n",
       "\n",
       "    .dataframe thead th {\n",
       "        text-align: right;\n",
       "    }\n",
       "</style>\n",
       "<table border=\"1\" class=\"dataframe\">\n",
       "  <thead>\n",
       "    <tr style=\"text-align: right;\">\n",
       "      <th>Symbols</th>\n",
       "      <th>BND</th>\n",
       "      <th>FXE</th>\n",
       "      <th>VOX</th>\n",
       "      <th>VNQ</th>\n",
       "      <th>VWO</th>\n",
       "    </tr>\n",
       "    <tr>\n",
       "      <th>Date</th>\n",
       "      <th></th>\n",
       "      <th></th>\n",
       "      <th></th>\n",
       "      <th></th>\n",
       "      <th></th>\n",
       "    </tr>\n",
       "  </thead>\n",
       "  <tbody>\n",
       "    <tr>\n",
       "      <th>2015-01-01</th>\n",
       "      <td>71.766930</td>\n",
       "      <td>111.220001</td>\n",
       "      <td>71.907372</td>\n",
       "      <td>67.315704</td>\n",
       "      <td>33.977837</td>\n",
       "    </tr>\n",
       "    <tr>\n",
       "      <th>2015-02-01</th>\n",
       "      <td>70.686409</td>\n",
       "      <td>110.120003</td>\n",
       "      <td>76.666000</td>\n",
       "      <td>64.842422</td>\n",
       "      <td>35.560181</td>\n",
       "    </tr>\n",
       "    <tr>\n",
       "      <th>2015-03-01</th>\n",
       "      <td>71.076416</td>\n",
       "      <td>105.709999</td>\n",
       "      <td>74.797150</td>\n",
       "      <td>65.573509</td>\n",
       "      <td>34.769001</td>\n",
       "    </tr>\n",
       "    <tr>\n",
       "      <th>2015-04-01</th>\n",
       "      <td>70.822350</td>\n",
       "      <td>110.370003</td>\n",
       "      <td>77.557175</td>\n",
       "      <td>62.108086</td>\n",
       "      <td>37.411480</td>\n",
       "    </tr>\n",
       "    <tr>\n",
       "      <th>2015-05-01</th>\n",
       "      <td>70.496887</td>\n",
       "      <td>107.910004</td>\n",
       "      <td>76.138229</td>\n",
       "      <td>61.920315</td>\n",
       "      <td>36.082050</td>\n",
       "    </tr>\n",
       "  </tbody>\n",
       "</table>\n",
       "</div>"
      ],
      "text/plain": [
       "Symbols           BND         FXE        VOX        VNQ        VWO\n",
       "Date                                                              \n",
       "2015-01-01  71.766930  111.220001  71.907372  67.315704  33.977837\n",
       "2015-02-01  70.686409  110.120003  76.666000  64.842422  35.560181\n",
       "2015-03-01  71.076416  105.709999  74.797150  65.573509  34.769001\n",
       "2015-04-01  70.822350  110.370003  77.557175  62.108086  37.411480\n",
       "2015-05-01  70.496887  107.910004  76.138229  61.920315  36.082050"
      ]
     },
     "execution_count": 3,
     "metadata": {},
     "output_type": "execute_result"
    }
   ],
   "source": [
    "# get adjusted closing prices for the assets from yahoo finance\n",
    "data = web.get_data_yahoo(stocks,start='01/01/2015',end='31/12/2019',interval='m')['Adj Close']\n",
    "data.head()"
   ]
  },
  {
   "cell_type": "code",
   "execution_count": 4,
   "metadata": {},
   "outputs": [
    {
     "data": {
      "text/html": [
       "<div>\n",
       "<style scoped>\n",
       "    .dataframe tbody tr th:only-of-type {\n",
       "        vertical-align: middle;\n",
       "    }\n",
       "\n",
       "    .dataframe tbody tr th {\n",
       "        vertical-align: top;\n",
       "    }\n",
       "\n",
       "    .dataframe thead th {\n",
       "        text-align: right;\n",
       "    }\n",
       "</style>\n",
       "<table border=\"1\" class=\"dataframe\">\n",
       "  <thead>\n",
       "    <tr style=\"text-align: right;\">\n",
       "      <th>Symbols</th>\n",
       "      <th>BND</th>\n",
       "      <th>FXE</th>\n",
       "      <th>VOX</th>\n",
       "      <th>VNQ</th>\n",
       "      <th>VWO</th>\n",
       "    </tr>\n",
       "    <tr>\n",
       "      <th>Date</th>\n",
       "      <th></th>\n",
       "      <th></th>\n",
       "      <th></th>\n",
       "      <th></th>\n",
       "      <th></th>\n",
       "    </tr>\n",
       "  </thead>\n",
       "  <tbody>\n",
       "    <tr>\n",
       "      <th>2015-01-01</th>\n",
       "      <td>NaN</td>\n",
       "      <td>NaN</td>\n",
       "      <td>NaN</td>\n",
       "      <td>NaN</td>\n",
       "      <td>NaN</td>\n",
       "    </tr>\n",
       "    <tr>\n",
       "      <th>2015-02-01</th>\n",
       "      <td>-0.015056</td>\n",
       "      <td>-0.009890</td>\n",
       "      <td>0.066177</td>\n",
       "      <td>-0.036742</td>\n",
       "      <td>0.046570</td>\n",
       "    </tr>\n",
       "    <tr>\n",
       "      <th>2015-03-01</th>\n",
       "      <td>0.005517</td>\n",
       "      <td>-0.040047</td>\n",
       "      <td>-0.024377</td>\n",
       "      <td>0.011275</td>\n",
       "      <td>-0.022249</td>\n",
       "    </tr>\n",
       "    <tr>\n",
       "      <th>2015-04-01</th>\n",
       "      <td>-0.003575</td>\n",
       "      <td>0.044083</td>\n",
       "      <td>0.036900</td>\n",
       "      <td>-0.052848</td>\n",
       "      <td>0.076001</td>\n",
       "    </tr>\n",
       "    <tr>\n",
       "      <th>2015-05-01</th>\n",
       "      <td>-0.004595</td>\n",
       "      <td>-0.022289</td>\n",
       "      <td>-0.018295</td>\n",
       "      <td>-0.003023</td>\n",
       "      <td>-0.035535</td>\n",
       "    </tr>\n",
       "  </tbody>\n",
       "</table>\n",
       "</div>"
      ],
      "text/plain": [
       "Symbols          BND       FXE       VOX       VNQ       VWO\n",
       "Date                                                        \n",
       "2015-01-01       NaN       NaN       NaN       NaN       NaN\n",
       "2015-02-01 -0.015056 -0.009890  0.066177 -0.036742  0.046570\n",
       "2015-03-01  0.005517 -0.040047 -0.024377  0.011275 -0.022249\n",
       "2015-04-01 -0.003575  0.044083  0.036900 -0.052848  0.076001\n",
       "2015-05-01 -0.004595 -0.022289 -0.018295 -0.003023 -0.035535"
      ]
     },
     "execution_count": 4,
     "metadata": {},
     "output_type": "execute_result"
    }
   ],
   "source": [
    "# calculate monthly returns from adjusted closing prices\n",
    "returns = data.pct_change()\n",
    "returns.head()"
   ]
  },
  {
   "cell_type": "code",
   "execution_count": 5,
   "metadata": {},
   "outputs": [],
   "source": [
    "# calculate mean and standard deviation for monthly returns\n",
    "mean_return = returns.mean()\n",
    "stdev_return = returns.std()"
   ]
  },
  {
   "cell_type": "code",
   "execution_count": 6,
   "metadata": {},
   "outputs": [],
   "source": [
    "# calculate annualised mean and standard deviation\n",
    "annualised_return = round(mean_return * 12,3)\n",
    "annualised_stdev = round(stdev_return * np.sqrt(12),3)"
   ]
  },
  {
   "cell_type": "code",
   "execution_count": 7,
   "metadata": {},
   "outputs": [],
   "source": [
    "# set number of iterations for hypothetical portfolios\n",
    "num_portfolios = 1000000\n",
    "num_assets = len(stocks)"
   ]
  },
  {
   "cell_type": "code",
   "execution_count": 8,
   "metadata": {},
   "outputs": [],
   "source": [
    "# create empty lists to store returns, volatility, and weights of hypothetical portfolios\n",
    "port_returns = []\n",
    "port_volatility = []\n",
    "stock_weights = []"
   ]
  },
  {
   "cell_type": "code",
   "execution_count": 9,
   "metadata": {},
   "outputs": [],
   "source": [
    "# calculate annualised covariance matrix\n",
    "cov_matrix = returns.cov()\n",
    "annualised_cov = cov_matrix * 12"
   ]
  },
  {
   "cell_type": "code",
   "execution_count": 10,
   "metadata": {},
   "outputs": [],
   "source": [
    "# populate the empty lists with each portfolios returns, volatility, and weights\n",
    "for portfolio in range(num_portfolios):\n",
    "    weights = np.random.random(num_assets)\n",
    "    weights /= np.sum(weights)\n",
    "    returns = np.dot(weights, annualised_return)\n",
    "    volatility = np.sqrt(np.dot(weights.T, np.dot(annualised_cov, weights)))\n",
    "    port_returns.append(returns)\n",
    "    port_volatility.append(volatility)\n",
    "    stock_weights.append(weights)"
   ]
  },
  {
   "cell_type": "code",
   "execution_count": 11,
   "metadata": {},
   "outputs": [],
   "source": [
    "# create dictionary for returns and volatility of each portfolio\n",
    "portfolio = {'Returns': port_returns,\n",
    "             'Volatility': port_volatility}"
   ]
  },
  {
   "cell_type": "code",
   "execution_count": 12,
   "metadata": {},
   "outputs": [],
   "source": [
    "# extend original dictionary to accomodate each ticker and weight in the portfolio\n",
    "for counter,symbol in enumerate(stocks):\n",
    "    portfolio[symbol+' Weight'] = [Weight[counter] for Weight in stock_weights]"
   ]
  },
  {
   "cell_type": "code",
   "execution_count": 13,
   "metadata": {},
   "outputs": [],
   "source": [
    "# create dataframe for dictionary and get labels for columns\n",
    "df = pd.DataFrame(portfolio)\n",
    "column_order = ['Returns', 'Volatility'] + [stock+' Weight' for stock in stocks]\n",
    "df = df[column_order]"
   ]
  },
  {
   "cell_type": "code",
   "execution_count": 14,
   "metadata": {
    "scrolled": true
   },
   "outputs": [
    {
     "data": {
      "image/png": "[encoded data removed]",
      "text/plain": [
       "<Figure size 720x576 with 1 Axes>"
      ]
     },
     "metadata": {},
     "output_type": "display_data"
    }
   ],
   "source": [
    "# plot efficient frontier    \n",
    "plt.style.use('seaborn')\n",
    "df.plot.scatter(x='Volatility', y='Returns', figsize=(10, 8), grid=True)\n",
    "plt.xlabel('Volatility (Std. Deviation)')\n",
    "plt.ylabel('Expected Returns')\n",
    "plt.title('Efficient Frontier')\n",
    "plt.show()"
   ]
  }
 ],
 "metadata": {
  "kernelspec": {
   "display_name": "Python 3",
   "language": "python",
   "name": "python3"
  },
  "language_info": {
   "codemirror_mode": {
    "name": "ipython",
    "version": 3
   },
   "file_extension": ".py",
   "mimetype": "text/x-python",
   "name": "python",
   "nbconvert_exporter": "python",
   "pygments_lexer": "ipython3",
   "version": "3.8.5"
  }
 },
 "nbformat": 4,
 "nbformat_minor": 4
}
