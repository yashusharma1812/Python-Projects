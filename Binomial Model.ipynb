{
 "cells": [
  {
   "cell_type": "code",
   "execution_count": 1,
   "metadata": {},
   "outputs": [],
   "source": [
    "import numpy as np\n",
    "import math"
   ]
  },
  {
   "cell_type": "code",
   "execution_count": 2,
   "metadata": {},
   "outputs": [],
   "source": [
    "def OptionPrice(S, K, T, Vo, Rf, q, CP, n, AM=False):\n",
    "    '''Option pricing using binomial model\n",
    "    \n",
    "    S : Stock Price\n",
    "    K : Strike Price\n",
    "    T : Option Maturity in Years\n",
    "    Vo: Volatility\n",
    "    Rf: Risk Free Rate\n",
    "    q : Dividend Yield\n",
    "    CP: Call(+1) or Put(-1)\n",
    "    n : Number of Periods\n",
    "    AM: TRUE/FALSE for American/European option'''\n",
    "    \n",
    "    #Calculating risk-neutral probability\n",
    "    \n",
    "    dt = T/n\n",
    "    u = math.exp(Vo*math.sqrt(dt))\n",
    "    d = 1/u\n",
    "    p = (math.exp((Rf-q)*dt)-d)/(u-d)\n",
    "    \n",
    "    #Stock price tree\n",
    "    \n",
    "    stockPrice = np.zeros((n+1,n+1))\n",
    "    stockPrice[0,0] = S\n",
    "    for i in range(1,n+1):\n",
    "        stockPrice[i,0] = stockPrice[i-1,0]*u\n",
    "        for j in range(1,n+1):\n",
    "            stockPrice[i,j] = stockPrice[i-1,j-1]*d\n",
    "    \n",
    "    #Option value tree\n",
    "    \n",
    "    optionValue = np.zeros((n+1,n+1))\n",
    "    for l in range(n+1):\n",
    "        optionValue[n,l] = max(0,CP*(stockPrice[n,l]-K))\n",
    "    for i in range(n-1,-1,-1):\n",
    "        for j in range(i+1):\n",
    "            optionValue[i,j] = (p*optionValue[i+1,j]+(1-p)*optionValue[i+1,j+1])/math.exp(Rf*dt)\n",
    "            if AM:\n",
    "                optionValue[i,j] = max(optionValue[i,j],CP*(stockPrice[i,j]-K))\n",
    "    return optionValue[0,0]"
   ]
  },
  {
   "cell_type": "code",
   "execution_count": 3,
   "metadata": {},
   "outputs": [
    {
     "data": {
      "text/plain": [
       "2.0832970820045205"
      ]
     },
     "execution_count": 3,
     "metadata": {},
     "output_type": "execute_result"
    }
   ],
   "source": [
    "OptionPrice(40,40,0.25,0.3,0.12,0,-1,3,True)"
   ]
  }
 ],
 "metadata": {
  "kernelspec": {
   "display_name": "Python 3",
   "language": "python",
   "name": "python3"
  },
  "language_info": {
   "codemirror_mode": {
    "name": "ipython",
    "version": 3
   },
   "file_extension": ".py",
   "mimetype": "text/x-python",
   "name": "python",
   "nbconvert_exporter": "python",
   "pygments_lexer": "ipython3",
   "version": "3.8.5"
  }
 },
 "nbformat": 4,
 "nbformat_minor": 4
}
